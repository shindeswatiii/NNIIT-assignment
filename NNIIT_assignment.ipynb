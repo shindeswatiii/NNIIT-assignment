{
  "nbformat": 4,
  "nbformat_minor": 0,
  "metadata": {
    "colab": {
      "provenance": []
    },
    "kernelspec": {
      "name": "python3",
      "display_name": "Python 3"
    },
    "language_info": {
      "name": "python"
    }
  },
  "cells": [
    {
      "cell_type": "code",
      "execution_count": 24,
      "metadata": {
        "colab": {
          "base_uri": "https://localhost:8080/"
        },
        "id": "1_KK1SFpg4H6",
        "outputId": "2e8b3c02-71b0-4d54-b1a9-2e313258fb9f"
      },
      "outputs": [
        {
          "output_type": "stream",
          "name": "stdout",
          "text": [
            "Collecting fastapi\n",
            "  Downloading fastapi-0.115.12-py3-none-any.whl.metadata (27 kB)\n",
            "Collecting uvicorn\n",
            "  Downloading uvicorn-0.34.2-py3-none-any.whl.metadata (6.5 kB)\n",
            "Collecting starlette<0.47.0,>=0.40.0 (from fastapi)\n",
            "  Downloading starlette-0.46.2-py3-none-any.whl.metadata (6.2 kB)\n",
            "Requirement already satisfied: pydantic!=1.8,!=1.8.1,!=2.0.0,!=2.0.1,!=2.1.0,<3.0.0,>=1.7.4 in /usr/local/lib/python3.11/dist-packages (from fastapi) (2.11.4)\n",
            "Requirement already satisfied: typing-extensions>=4.8.0 in /usr/local/lib/python3.11/dist-packages (from fastapi) (4.13.2)\n",
            "Requirement already satisfied: click>=7.0 in /usr/local/lib/python3.11/dist-packages (from uvicorn) (8.2.0)\n",
            "Requirement already satisfied: h11>=0.8 in /usr/local/lib/python3.11/dist-packages (from uvicorn) (0.16.0)\n",
            "Requirement already satisfied: annotated-types>=0.6.0 in /usr/local/lib/python3.11/dist-packages (from pydantic!=1.8,!=1.8.1,!=2.0.0,!=2.0.1,!=2.1.0,<3.0.0,>=1.7.4->fastapi) (0.7.0)\n",
            "Requirement already satisfied: pydantic-core==2.33.2 in /usr/local/lib/python3.11/dist-packages (from pydantic!=1.8,!=1.8.1,!=2.0.0,!=2.0.1,!=2.1.0,<3.0.0,>=1.7.4->fastapi) (2.33.2)\n",
            "Requirement already satisfied: typing-inspection>=0.4.0 in /usr/local/lib/python3.11/dist-packages (from pydantic!=1.8,!=1.8.1,!=2.0.0,!=2.0.1,!=2.1.0,<3.0.0,>=1.7.4->fastapi) (0.4.0)\n",
            "Requirement already satisfied: anyio<5,>=3.6.2 in /usr/local/lib/python3.11/dist-packages (from starlette<0.47.0,>=0.40.0->fastapi) (4.9.0)\n",
            "Requirement already satisfied: idna>=2.8 in /usr/local/lib/python3.11/dist-packages (from anyio<5,>=3.6.2->starlette<0.47.0,>=0.40.0->fastapi) (3.10)\n",
            "Requirement already satisfied: sniffio>=1.1 in /usr/local/lib/python3.11/dist-packages (from anyio<5,>=3.6.2->starlette<0.47.0,>=0.40.0->fastapi) (1.3.1)\n",
            "Downloading fastapi-0.115.12-py3-none-any.whl (95 kB)\n",
            "\u001b[2K   \u001b[90m━━━━━━━━━━━━━━━━━━━━━━━━━━━━━━━━━━━━━━━━\u001b[0m \u001b[32m95.2/95.2 kB\u001b[0m \u001b[31m7.2 MB/s\u001b[0m eta \u001b[36m0:00:00\u001b[0m\n",
            "\u001b[?25hDownloading uvicorn-0.34.2-py3-none-any.whl (62 kB)\n",
            "\u001b[2K   \u001b[90m━━━━━━━━━━━━━━━━━━━━━━━━━━━━━━━━━━━━━━━━\u001b[0m \u001b[32m62.5/62.5 kB\u001b[0m \u001b[31m3.8 MB/s\u001b[0m eta \u001b[36m0:00:00\u001b[0m\n",
            "\u001b[?25hDownloading starlette-0.46.2-py3-none-any.whl (72 kB)\n",
            "\u001b[2K   \u001b[90m━━━━━━━━━━━━━━━━━━━━━━━━━━━━━━━━━━━━━━━━\u001b[0m \u001b[32m72.0/72.0 kB\u001b[0m \u001b[31m5.7 MB/s\u001b[0m eta \u001b[36m0:00:00\u001b[0m\n",
            "\u001b[?25hInstalling collected packages: uvicorn, starlette, fastapi\n",
            "Successfully installed fastapi-0.115.12 starlette-0.46.2 uvicorn-0.34.2\n"
          ]
        }
      ],
      "source": [
        "pip install fastapi uvicorn"
      ]
    },
    {
      "cell_type": "code",
      "source": [
        "import json\n",
        "import random\n",
        "from pathlib import Path\n",
        "\n",
        "\n"
      ],
      "metadata": {
        "id": "1jXrG65dg94t"
      },
      "execution_count": 17,
      "outputs": []
    },
    {
      "cell_type": "code",
      "source": [
        "from pathlib import Path\n",
        "import json\n",
        "import random\n",
        "\n",
        "FILE_PATH = Path(\"C:\\\\Users\\\\swati shinde\\\\Downloads\\\\flashcard.json\")\n",
        "\n",
        "def load_flashcards():\n",
        "    \"\"\"\n",
        "    Loads all flashcards from the JSON file.\n",
        "\n",
        "    Returns:\n",
        "        list: A list of flashcard dictionaries.\n",
        "    \"\"\"\n",
        "    if FILE_PATH.exists():\n",
        "        with open(FILE_PATH, \"r\") as f:\n",
        "            return json.load(f)\n",
        "    return []\n",
        "\n",
        "def save_flashcard(data: dict):\n",
        "    \"\"\"\n",
        "    Appends a new flashcard to the JSON file.\n",
        "\n",
        "    Args:\n",
        "        data (dict): The flashcard data to store.\n",
        "    \"\"\"\n",
        "    all_cards = load_flashcards()\n",
        "    all_cards.append(data)\n",
        "    with open(FILE_PATH, \"w\") as f:\n",
        "        json.dump(all_cards, f, indent=2)\n",
        "\n",
        "def get_flashcards_by_mixed_subjects(student_id: str, limit: int = 5):\n",
        "    \"\"\"\n",
        "    Retrieves flashcards for a given student, mixing subjects up to the limit.\n",
        "\n",
        "    Args:\n",
        "        student_id (str): The student ID to filter flashcards.\n",
        "        limit (int): Max number of flashcards to return.\n",
        "\n",
        "    Returns:\n",
        "        list: A list of flashcards with diverse subjects.\n",
        "    \"\"\"\n",
        "    cards = load_flashcards()\n",
        "    student_cards = [c for c in cards if c[\"student_id\"] == student_id]\n",
        "\n",
        "    # Group flashcards by subject\n",
        "    subject_map = {}\n",
        "    for card in student_cards:\n",
        "        subject = card[\"subject\"]\n",
        "        subject_map.setdefault(subject, []).append(card)\n",
        "\n",
        "    # Collect one flashcard from each subject\n",
        "    mixed = []\n",
        "    for subject_cards in subject_map.values():\n",
        "        mixed.append(random.choice(subject_cards))\n",
        "        if len(mixed) >= limit:\n",
        "            break\n",
        "\n",
        "    # If still under limit, fill with remaining cards\n",
        "    if len(mixed) < limit:\n",
        "        remaining = [c for c in student_cards if c not in mixed]\n",
        "        random.shuffle(remaining)\n",
        "        mixed += remaining[:limit - len(mixed)]\n",
        "\n",
        "    random.shuffle(mixed)\n",
        "    return mixed[:limit]"
      ],
      "metadata": {
        "id": "rum1JuCYtRzr"
      },
      "execution_count": 22,
      "outputs": []
    },
    {
      "cell_type": "code",
      "source": [
        "\"\"\"\n",
        "This module contains the logic to infer the subject of a flashcard\n",
        "based on rule-based keyword matching.\n",
        "\"\"\"\n",
        "\n",
        "def infer_subject(text: str) -> str:\n",
        "    \"\"\"\n",
        "    Infers the subject of the flashcard based on keywords in the question text.\n",
        "\n",
        "    Args:\n",
        "        text (str): The question text from the flashcard.\n",
        "\n",
        "    Returns:\n",
        "        str: The inferred subject, e.g., \"Physics\", \"Biology\".\n",
        "    \"\"\"\n",
        "    text = text.lower()\n",
        "    keywords = {\n",
        "        \"Physics\": [\"force\", \"acceleration\", \"velocity\", \"newton\", \"gravity\", \"energy\"],\n",
        "        \"Biology\": [\"photosynthesis\", \"cell\", \"organism\", \"plant\", \"enzyme\", \"mitochondria\"],\n",
        "        \"Chemistry\": [\"atom\", \"molecule\", \"reaction\", \"acid\", \"base\", \"compound\"],\n",
        "        \"Math\": [\"algebra\", \"geometry\", \"equation\", \"derivative\", \"integral\", \"calculus\"],\n",
        "        \"History\": [\"war\", \"revolution\", \"empire\", \"ancient\", \"medieval\", \"treaty\"],\n",
        "        \"Geography\": [\"continent\", \"river\", \"mountain\", \"ocean\", \"climate\", \"desert\"]\n",
        "    }\n",
        "\n",
        "    for subject, terms in keywords.items():\n",
        "        if any(word in text for word in terms):\n",
        "            return subject\n",
        "    return \"General\""
      ],
      "metadata": {
        "id": "QLe0PyCstjga"
      },
      "execution_count": 23,
      "outputs": []
    }
  ]
}